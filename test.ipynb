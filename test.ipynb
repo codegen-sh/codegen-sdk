{
 "cells": [
  {
   "cell_type": "code",
   "execution_count": null,
   "id": "0",
   "metadata": {},
   "outputs": [],
   "source": [
    "%load_ext autoreload\n",
    "%autoreload 2\n",
    "from src.codegen import Codebase\n",
    "from src.codegen.sdk.enums import ProgrammingLanguage\n",
    "\n",
    "# codebase = Codebase('./', programming_language=ProgrammingLanguage.PYTHON)"
   ]
  },
  {
   "cell_type": "code",
   "execution_count": null,
   "id": "1",
   "metadata": {},
   "outputs": [],
   "source": [
    "codebase = Codebase.from_repo(\"sqlfluff/sqlfluff\", commit=\"14e1a23a3166b9a645a16de96f694c77a5d4abb7\")"
   ]
  },
  {
   "cell_type": "markdown",
   "id": "2",
   "metadata": {},
   "source": [
    "# Agent"
   ]
  },
  {
   "cell_type": "code",
   "execution_count": null,
   "id": "3",
   "metadata": {},
   "outputs": [],
   "source": [
    "from src.codegen.extensions.tools.semantic_edit import semantic_edit"
   ]
  },
  {
   "cell_type": "code",
   "execution_count": null,
   "id": "4",
   "metadata": {},
   "outputs": [],
   "source": [
    "file = codebase.files[100]"
   ]
  },
  {
   "cell_type": "code",
   "execution_count": null,
   "id": "5",
   "metadata": {},
   "outputs": [],
   "source": [
    "output = semantic_edit(\n",
    "    codebase,\n",
    "    file.filepath,\n",
    "    '''# ... existing code ...\n",
    "    def process_raw_file_for_config(self, raw_str: str):\n",
    "        \"\"\"Process a full raw file for inline config and update self.\"\"\"\n",
    "        # Scan the raw file for config commands.\n",
    "        for raw_line in raw_str.splitlines():\n",
    "            if raw_line.startswith(\"-- sqlfluff\"):\n",
    "                # Found a in-file config command\n",
    "                self.process_inline_config(raw_line)\n",
    "\n",
    "                # Print hello world\n",
    "                print('hello, world!')\n",
    "# ... existing code ...''',\n",
    ")"
   ]
  },
  {
   "cell_type": "code",
   "execution_count": null,
   "id": "6",
   "metadata": {},
   "outputs": [],
   "source": [
    "print(output[\"diff\"])"
   ]
  },
  {
   "cell_type": "code",
   "execution_count": null,
   "id": "7",
   "metadata": {},
   "outputs": [],
   "source": [
    "print(output[\"diff\"])"
   ]
  },
  {
   "cell_type": "code",
   "execution_count": null,
   "id": "8",
   "metadata": {},
   "outputs": [],
   "source": [
    "print(file.content)"
   ]
  },
  {
   "cell_type": "markdown",
   "id": "9",
   "metadata": {},
   "source": [
    "## Agent"
   ]
  },
  {
   "cell_type": "code",
   "execution_count": null,
   "id": "10",
   "metadata": {},
   "outputs": [],
   "source": [
    "agent = create_workspace_agent(codebase)"
   ]
  },
  {
   "cell_type": "code",
   "execution_count": null,
   "id": "11",
   "metadata": {},
   "outputs": [],
   "source": [
    "problem = \"\"\"TSQL - L031 incorrectly triggers \"Avoid using aliases in join condition\" when no join present ## Expected Behaviour Both of these queries should pass, the only difference is the addition of a table alias 'a': 1/ no alias ``` SELECT [hello] FROM mytable ``` 2/ same query with alias ``` SELECT a.[hello] FROM mytable AS a ``` ## Observed Behaviour 1/ passes 2/ fails with: L031: Avoid using aliases in join condition. But there is no join condition :-) ## Steps to Reproduce Lint queries above ## Dialect TSQL ## Version sqlfluff 0.6.9 Python 3.6.9 ## Configuration N/A\"\"\""
   ]
  },
  {
   "cell_type": "code",
   "execution_count": null,
   "id": "12",
   "metadata": {},
   "outputs": [],
   "source": [
    "repo = \"sqlfluff/sqlfluff\"\n",
    "problem = \"\"\"TSQL - L031 incorrectly triggers \"Avoid using aliases in join condition\" when no join present ## Expected Behaviour Both of these queries should pass, the only difference is the addition of a table alias 'a': 1/ no alias ``` SELECT [hello] FROM mytable ``` 2/ same query with alias ``` SELECT a.[hello] FROM mytable AS a ``` ## Observed Behaviour 1/ passes 2/ fails with: L031: Avoid using aliases in join condition. But there is no join condition :-) ## Steps to Reproduce Lint queries above ## Dialect TSQL ## Version sqlfluff 0.6.9 Python 3.6.9 ## Configuration N/A\"\"\"\n",
    "\n",
    "codebase = Codebase.from_repo(\"sqlfluff/sqlfluff\", commit=\"14e1a23a3166b9a645a16de96f694c77a5d4abb7\")\n",
    "\n",
    "result = agent.invoke(\n",
    "    {\n",
    "        \"input\": f\"\"\"\n",
    "You are working on SWE Bench. I have given you the following repo: sqlfluff/sqlfluff.\n",
    "\n",
    "Here is the problem:\n",
    "\n",
    "{problem}\n",
    "\n",
    "Now solve it using your tools! Godspeed 🚀\n",
    "\"\"\"\n",
    "    },\n",
    "    config={\"configurable\": {\"session_id\": \"demo-2\"}},\n",
    ")"
   ]
  },
  {
   "cell_type": "code",
   "execution_count": null,
   "id": "13",
   "metadata": {},
   "outputs": [],
   "source": [
    "from src.codegen.workspace.tools.reveal_symbol import reveal_symbol\n",
    "\n",
    "symbol = codebase.get_symbol(\"PyFunction\")\n",
    "output = reveal_symbol(symbol, collect_dependencies=False)"
   ]
  },
  {
   "cell_type": "code",
   "execution_count": null,
   "id": "14",
   "metadata": {},
   "outputs": [],
   "source": []
  }
 ],
 "metadata": {
  "kernelspec": {
   "display_name": "Python 3 (ipykernel)",
   "language": "python",
   "name": "python3"
  },
  "language_info": {
   "codemirror_mode": {
    "name": "ipython",
    "version": 3
   },
   "file_extension": ".py",
   "mimetype": "text/x-python",
   "name": "python",
   "nbconvert_exporter": "python",
   "pygments_lexer": "ipython3",
   "version": "3.12.7"
  }
 },
 "nbformat": 4,
 "nbformat_minor": 5
}
