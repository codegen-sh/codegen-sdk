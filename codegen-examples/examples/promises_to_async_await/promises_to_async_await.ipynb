{
 "cells": [
  {
   "cell_type": "code",
   "execution_count": null,
   "metadata": {},
   "outputs": [],
   "source": [
    "from codegen import Codebase\n",
    "\n",
    "from codegen.sdk.enums import ProgrammingLanguage\n",
    "\n",
    "%load_ext autoreload\n",
    "%autoreload 2"
   ]
  },
  {
   "cell_type": "code",
   "execution_count": null,
   "metadata": {},
   "outputs": [],
   "source": [
    "codebase = Codebase(\n",
    "    repo_path=\"./\",\n",
    "    programming_language=ProgrammingLanguage.TYPESCRIPT,\n",
    ")"
   ]
  },
  {
   "cell_type": "code",
   "execution_count": null,
   "metadata": {},
   "outputs": [],
   "source": [
    "function_calls = codebase.get_function(\"processUserData\").function_calls\n",
    "promise_chain = None\n",
    "\n",
    "# Find the promise chain\n",
    "for function_call in function_calls:\n",
    "    if function_call.name == \"then\":\n",
    "        promise_chain = function_call.get_promise_chain()\n",
    "        break\n",
    "\n",
    "\n",
    "print(\"\\n=== Promise Chain Analysis ===\")\n",
    "print(f\"Base Chain: {[call.name for call in promise_chain.base_chain]}\")\n",
    "print(f\"Then Chain: {[call.name for call in promise_chain.then_chain]}\")\n",
    "print(f\"Has Catch: {promise_chain.has_catch_call} -> {promise_chain.catch_call.name if promise_chain.catch_call else None}\")\n",
    "print(f\"Has Finally: {promise_chain.has_finally_call} -> {promise_chain.finally_call.name if promise_chain.finally_call else None}\")"
   ]
  },
  {
   "cell_type": "markdown",
   "metadata": {},
   "source": [
    "## Test 1: Long Promise Chains\n",
    "\n",
    "```typescript\n",
    "// Example of nested .then() calls\n",
    "async function getUserDataAndPosts(userId: number): Promise<void> {\n",
    "    fetchUserData(userId)\n",
    "        .then((user) => {\n",
    "            console.log('User:', user);\n",
    "            return fetchUserPosts(user.id);\n",
    "        })\n",
    "        .then((posts) => {\n",
    "            console.log('Posts:', posts);\n",
    "            return fetchPostComments(posts[0].id);\n",
    "        })\n",
    "        .then((comments) => {\n",
    "            console.log('Comments:', comments);\n",
    "        })\n",
    "        .catch((error) => {\n",
    "            console.error('Error:', error.message);\n",
    "        });\n",
    "}\n",
    "```"
   ]
  },
  {
   "cell_type": "code",
   "execution_count": null,
   "metadata": {},
   "outputs": [],
   "source": [
    "promise_chain.convert_to_async_await()\n",
    "codebase.commit()"
   ]
  },
  {
   "cell_type": "markdown",
   "metadata": {},
   "source": [
    "Converts to:\n",
    "\n",
    "```typescript\n",
    "function ensureTable(tableName, schemaName, trxOrKnex) {\n",
    "    const lockTable = getLockTableName(tableName);\n",
    "    return getSchemaBuilder(trxOrKnex, schemaName)\n",
    "      .hasTable(tableName)\n",
    "      .then((exists) => {\n",
    "        return !exists && _createMigrationTable(tableName, schemaName, trxOrKnex);\n",
    "      })\n",
    "      .then(() => {\n",
    "        return getSchemaBuilder(trxOrKnex, schemaName).hasTable(lockTable);\n",
    "      })\n",
    "      .then((exists) => {\n",
    "        return (\n",
    "          !exists && _createMigrationLockTable(lockTable, schemaName, trxOrKnex)\n",
    "        );\n",
    "      })\n",
    "      .then(() => {\n",
    "        return getTable(trxOrKnex, lockTable, schemaName).select('*');\n",
    "      })\n",
    "      .then((data) => {\n",
    "        return (\n",
    "          !data.length && _insertLockRowIfNeeded(tableName, schemaName, trxOrKnex)\n",
    "        );\n",
    "      });\n",
    "  }\n",
    "```"
   ]
  },
  {
   "cell_type": "code",
   "execution_count": null,
   "metadata": {},
   "outputs": [],
   "source": [
    "codebase.reset()"
   ]
  },
  {
   "cell_type": "code",
   "execution_count": null,
   "metadata": {},
   "outputs": [],
   "source": [
    "function_calls = codebase.get_function(\"ensureTable\").function_calls\n",
    "promise_chain = None\n",
    "\n",
    "# Find the promise chain\n",
    "for function_call in function_calls:\n",
    "    if function_call.name == \"then\":\n",
    "        promise_chain = function_call.get_promise_chain()\n",
    "        break\n",
    "\n",
    "\n",
    "print(\"\\n=== Promise Chain Analysis ===\")\n",
    "print(f\"Base Chain: {[call.name for call in promise_chain.base_chain]}\")\n",
    "print(f\"Then Chain: {[call.name for call in promise_chain.then_chain]}\")\n",
    "print(f\"Has Catch: {promise_chain.has_catch_call} -> {promise_chain.catch_call.name if promise_chain.catch_call else None}\")\n",
    "print(f\"Has Finally: {promise_chain.has_finally_call} -> {promise_chain.finally_call.name if promise_chain.finally_call else None}\")"
   ]
  },
  {
   "cell_type": "markdown",
   "metadata": {},
   "source": [
    "\n",
    "# Test 2: Long Promise Chain from [knex](https://knexjs.org/)\n",
    "\n",
    "\n",
    "```typescript\n",
    " function ensureTable(tableName, schemaName, trxOrKnex) {\n",
    "    const lockTable = getLockTableName(tableName);\n",
    "    return getSchemaBuilder(trxOrKnex, schemaName)\n",
    "      .hasTable(tableName)\n",
    "      .then((exists) => {\n",
    "        return !exists && _createMigrationTable(tableName, schemaName, trxOrKnex);\n",
    "      })\n",
    "      .then(() => {\n",
    "        return getSchemaBuilder(trxOrKnex, schemaName).hasTable(lockTable);\n",
    "      })\n",
    "      .then((exists) => {\n",
    "        return (\n",
    "          !exists && _createMigrationLockTable(lockTable, schemaName, trxOrKnex)\n",
    "        );\n",
    "      })\n",
    "      .then(() => {\n",
    "        return getTable(trxOrKnex, lockTable, schemaName).select('*');\n",
    "      })\n",
    "      .then((data) => {\n",
    "        return (\n",
    "          !data.length && _insertLockRowIfNeeded(tableName, schemaName, trxOrKnex)\n",
    "        );\n",
    "      });\n",
    "  }\n",
    "````"
   ]
  },
  {
   "cell_type": "code",
   "execution_count": null,
   "metadata": {},
   "outputs": [],
   "source": [
    "promise_chain.convert_to_async_await()\n",
    "codebase.commit()"
   ]
  },
  {
   "cell_type": "markdown",
   "metadata": {},
   "source": [
    "Converts to:\n",
    "\n",
    "```typescript\n",
    "\n",
    "async function ensureTable(tableName, schemaName, trxOrKnex) {\n",
    "    const lockTable = getLockTableName(tableName);\n",
    "    let exists = await getSchemaBuilder(trxOrKnex, schemaName)\n",
    "      .hasTable(tableName);\n",
    "        await !exists && _createMigrationTable(tableName, schemaName, trxOrKnex);\n",
    "\n",
    "        exists = await getSchemaBuilder(trxOrKnex, schemaName).hasTable(lockTable);\n",
    "\n",
    "        await (\n",
    "          !exists && _createMigrationLockTable(lockTable, schemaName, trxOrKnex)\n",
    "        );\n",
    "\n",
    "        let data = await getTable(trxOrKnex, lockTable, schemaName).select('*');\n",
    "\n",
    "    return (\n",
    "          !data.length && _insertLockRowIfNeeded(tableName, schemaName, trxOrKnex)\n",
    "        );\n",
    "  }\n",
    "```\n"
   ]
  }
 ],
 "metadata": {
  "kernelspec": {
   "display_name": ".venv",
   "language": "python",
   "name": "python3"
  },
  "language_info": {
   "codemirror_mode": {
    "name": "ipython",
    "version": 3
   },
   "file_extension": ".py",
   "mimetype": "text/x-python",
   "name": "python",
   "nbconvert_exporter": "python",
   "pygments_lexer": "ipython3",
   "version": "3.13.0"
  }
 },
 "nbformat": 4,
 "nbformat_minor": 2
}
