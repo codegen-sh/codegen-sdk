{
 "cells": [
  {
   "cell_type": "code",
   "execution_count": null,
   "id": "0",
   "metadata": {},
   "outputs": [],
   "source": [
    "import json\n",
    "from pathlib import Path\n",
    "\n",
    "docs = Path(\"./docs\")\n",
    "mint = json.load(open(docs / \"mint.json\"))"
   ]
  },
  {
   "cell_type": "code",
   "execution_count": null,
   "id": "1",
   "metadata": {},
   "outputs": [],
   "source": [
    "def render_page(page_str: str):\n",
    "    return open(docs / (page_str + \".mdx\")).read()\n",
    "\n",
    "\n",
    "def render_group(page_strs: list[str]):\n",
    "    return \"\\n\\n\".join([render_page(x) for x in page_strs])\n",
    "\n",
    "\n",
    "def get_group(name) -> list[str]:\n",
    "    group = next((x for x in mint[\"navigation\"] if x.get(\"group\") == name), None)\n",
    "    if group:\n",
    "        return group[\"pages\"]\n",
    "\n",
    "\n",
    "def render_groups(group_names: list[str]) -> str:\n",
    "    groups = [get_group(x) for x in group_names]\n",
    "    return \"\\n\\n\".join([render_group(g) for g in groups])\n",
    "\n",
    "\n",
    "def get_system_prompt():\n",
    "    return render_groups([\"Introduction\", \"Building with Codegen\", \"Tutorials\"])"
   ]
  },
  {
   "cell_type": "code",
   "execution_count": null,
   "id": "2",
   "metadata": {},
   "outputs": [],
   "source": [
    "get_system_prompt(\"test\")"
   ]
  },
  {
   "cell_type": "code",
   "execution_count": null,
   "id": "3",
   "metadata": {},
   "outputs": [],
   "source": []
  }
 ],
 "metadata": {
  "kernelspec": {
   "display_name": "Python 3 (ipykernel)",
   "language": "python",
   "name": "python3"
  },
  "language_info": {
   "codemirror_mode": {
    "name": "ipython",
    "version": 3
   },
   "file_extension": ".py",
   "mimetype": "text/x-python",
   "name": "python",
   "nbconvert_exporter": "python",
   "pygments_lexer": "ipython3",
   "version": "3.12.7"
  }
 },
 "nbformat": 4,
 "nbformat_minor": 5
}
